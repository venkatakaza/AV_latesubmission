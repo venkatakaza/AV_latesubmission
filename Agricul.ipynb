{
 "cells": [
  {
   "cell_type": "code",
   "execution_count": 60,
   "metadata": {},
   "outputs": [],
   "source": [
    "import pandas as pd\n",
    "import numpy as np \n",
    "import matplotlib.pyplot as plt\n",
    "%matplotlib inline\n",
    "from sklearn.model_selection import train_test_split\n",
    "from sklearn import preprocessing\n",
    "from sklearn.pipeline import Pipeline\n",
    "from sklearn.model_selection import cross_val_score\n",
    "from sklearn.metrics import accuracy_score, log_loss\n",
    "from sklearn.neighbors import KNeighborsClassifier\n",
    "from sklearn.multiclass import OneVsRestClassifier\n",
    "from sklearn.svm import SVC, LinearSVC, NuSVC\n",
    "from sklearn.linear_model import LogisticRegression\n",
    "from sklearn.tree import DecisionTreeClassifier\n",
    "from sklearn.ensemble import RandomForestClassifier, AdaBoostClassifier, GradientBoostingClassifier\n",
    "import warnings \n",
    "warnings.filterwarnings('ignore')"
   ]
  },
  {
   "cell_type": "code",
   "execution_count": 99,
   "metadata": {},
   "outputs": [],
   "source": [
    "trainDf=pd.read_csv('train_yaOffsB.csv')\n",
    "testDf=pd.read_csv('test_pFkWwen.csv')\n",
    "trainOrg=trainDf.copy()\n",
    "testOrg=testDf.copy()"
   ]
  },
  {
   "cell_type": "code",
   "execution_count": 100,
   "metadata": {},
   "outputs": [
    {
     "data": {
      "text/plain": [
       "0    74238\n",
       "1    12307\n",
       "2     2313\n",
       "Name: Crop_Damage, dtype: int64"
      ]
     },
     "execution_count": 100,
     "metadata": {},
     "output_type": "execute_result"
    }
   ],
   "source": [
    "trainDf['Crop_Damage'].value_counts()"
   ]
  },
  {
   "cell_type": "code",
   "execution_count": null,
   "metadata": {},
   "outputs": [],
   "source": []
  },
  {
   "cell_type": "code",
   "execution_count": 101,
   "metadata": {},
   "outputs": [
    {
     "data": {
      "text/html": [
       "<div>\n",
       "<style scoped>\n",
       "    .dataframe tbody tr th:only-of-type {\n",
       "        vertical-align: middle;\n",
       "    }\n",
       "\n",
       "    .dataframe tbody tr th {\n",
       "        vertical-align: top;\n",
       "    }\n",
       "\n",
       "    .dataframe thead th {\n",
       "        text-align: right;\n",
       "    }\n",
       "</style>\n",
       "<table border=\"1\" class=\"dataframe\">\n",
       "  <thead>\n",
       "    <tr style=\"text-align: right;\">\n",
       "      <th></th>\n",
       "      <th>ID</th>\n",
       "      <th>Estimated_Insects_Count</th>\n",
       "      <th>Crop_Type</th>\n",
       "      <th>Soil_Type</th>\n",
       "      <th>Pesticide_Use_Category</th>\n",
       "      <th>Number_Doses_Week</th>\n",
       "      <th>Number_Weeks_Used</th>\n",
       "      <th>Number_Weeks_Quit</th>\n",
       "      <th>Season</th>\n",
       "      <th>Crop_Damage</th>\n",
       "    </tr>\n",
       "  </thead>\n",
       "  <tbody>\n",
       "    <tr>\n",
       "      <th>0</th>\n",
       "      <td>F00000001</td>\n",
       "      <td>188</td>\n",
       "      <td>1</td>\n",
       "      <td>0</td>\n",
       "      <td>1</td>\n",
       "      <td>0</td>\n",
       "      <td>0.0</td>\n",
       "      <td>0</td>\n",
       "      <td>1</td>\n",
       "      <td>0</td>\n",
       "    </tr>\n",
       "    <tr>\n",
       "      <th>1</th>\n",
       "      <td>F00000003</td>\n",
       "      <td>209</td>\n",
       "      <td>1</td>\n",
       "      <td>0</td>\n",
       "      <td>1</td>\n",
       "      <td>0</td>\n",
       "      <td>0.0</td>\n",
       "      <td>0</td>\n",
       "      <td>2</td>\n",
       "      <td>1</td>\n",
       "    </tr>\n",
       "    <tr>\n",
       "      <th>2</th>\n",
       "      <td>F00000004</td>\n",
       "      <td>257</td>\n",
       "      <td>1</td>\n",
       "      <td>0</td>\n",
       "      <td>1</td>\n",
       "      <td>0</td>\n",
       "      <td>0.0</td>\n",
       "      <td>0</td>\n",
       "      <td>2</td>\n",
       "      <td>1</td>\n",
       "    </tr>\n",
       "    <tr>\n",
       "      <th>3</th>\n",
       "      <td>F00000005</td>\n",
       "      <td>257</td>\n",
       "      <td>1</td>\n",
       "      <td>1</td>\n",
       "      <td>1</td>\n",
       "      <td>0</td>\n",
       "      <td>0.0</td>\n",
       "      <td>0</td>\n",
       "      <td>2</td>\n",
       "      <td>1</td>\n",
       "    </tr>\n",
       "    <tr>\n",
       "      <th>4</th>\n",
       "      <td>F00000006</td>\n",
       "      <td>342</td>\n",
       "      <td>1</td>\n",
       "      <td>0</td>\n",
       "      <td>1</td>\n",
       "      <td>0</td>\n",
       "      <td>0.0</td>\n",
       "      <td>0</td>\n",
       "      <td>2</td>\n",
       "      <td>1</td>\n",
       "    </tr>\n",
       "  </tbody>\n",
       "</table>\n",
       "</div>"
      ],
      "text/plain": [
       "          ID  Estimated_Insects_Count  Crop_Type  Soil_Type  \\\n",
       "0  F00000001                      188          1          0   \n",
       "1  F00000003                      209          1          0   \n",
       "2  F00000004                      257          1          0   \n",
       "3  F00000005                      257          1          1   \n",
       "4  F00000006                      342          1          0   \n",
       "\n",
       "   Pesticide_Use_Category  Number_Doses_Week  Number_Weeks_Used  \\\n",
       "0                       1                  0                0.0   \n",
       "1                       1                  0                0.0   \n",
       "2                       1                  0                0.0   \n",
       "3                       1                  0                0.0   \n",
       "4                       1                  0                0.0   \n",
       "\n",
       "   Number_Weeks_Quit  Season  Crop_Damage  \n",
       "0                  0       1            0  \n",
       "1                  0       2            1  \n",
       "2                  0       2            1  \n",
       "3                  0       2            1  \n",
       "4                  0       2            1  "
      ]
     },
     "execution_count": 101,
     "metadata": {},
     "output_type": "execute_result"
    }
   ],
   "source": [
    "trainDf.head(5)"
   ]
  },
  {
   "cell_type": "code",
   "execution_count": 102,
   "metadata": {},
   "outputs": [
    {
     "data": {
      "text/plain": [
       "<matplotlib.axes._subplots.AxesSubplot at 0x24dc0a47f60>"
      ]
     },
     "execution_count": 102,
     "metadata": {},
     "output_type": "execute_result"
    },
    {
     "data": {
      "image/png": "[encoded data removed]",
      "text/plain": [
       "<Figure size 864x360 with 1 Axes>"
      ]
     },
     "metadata": {
      "needs_background": "light"
     },
     "output_type": "display_data"
    }
   ],
   "source": [
    "trainDf.groupby('Crop_Damage')['Estimated_Insects_Count'].mean().plot.bar(figsize=(12,5))"
   ]
  },
  {
   "cell_type": "code",
   "execution_count": 103,
   "metadata": {},
   "outputs": [
    {
     "data": {
      "text/plain": [
       "Pesticide_Use_Category  Crop_Damage\n",
       "1                       1                554\n",
       "                        2                165\n",
       "                        0                118\n",
       "2                       0              56958\n",
       "                        1               6072\n",
       "                        2                679\n",
       "3                       0              17162\n",
       "                        1               5681\n",
       "                        2               1469\n",
       "Name: Crop_Damage, dtype: int64"
      ]
     },
     "execution_count": 103,
     "metadata": {},
     "output_type": "execute_result"
    }
   ],
   "source": [
    "trainDf.groupby('Pesticide_Use_Category')['Crop_Damage'].value_counts()"
   ]
  },
  {
   "cell_type": "markdown",
   "metadata": {},
   "source": [
    "Intersting the damage is more than the cure when we use pesticide category '1'"
   ]
  },
  {
   "cell_type": "code",
   "execution_count": 104,
   "metadata": {},
   "outputs": [
    {
     "data": {
      "text/plain": [
       "<matplotlib.axes._subplots.AxesSubplot at 0x24dc0a357b8>"
      ]
     },
     "execution_count": 104,
     "metadata": {},
     "output_type": "execute_result"
    },
    {
     "data": {
      "image/png": "[encoded data removed]",
      "text/plain": [
       "<Figure size 864x360 with 1 Axes>"
      ]
     },
     "metadata": {
      "needs_background": "light"
     },
     "output_type": "display_data"
    }
   ],
   "source": [
    "trainDf.groupby('Number_Doses_Week')['Crop_Damage'].mean().plot(figsize=(12,5))"
   ]
  },
  {
   "cell_type": "markdown",
   "metadata": {},
   "source": [
    "Its clear if we use more number of doses the chance of crop damage is less, but interestingly there slight peak at end \n",
    "so over doses might also lead to crop damage"
   ]
  },
  {
   "cell_type": "code",
   "execution_count": 105,
   "metadata": {},
   "outputs": [
    {
     "data": {
      "text/plain": [
       "<matplotlib.axes._subplots.AxesSubplot at 0x24dc301f668>"
      ]
     },
     "execution_count": 105,
     "metadata": {},
     "output_type": "execute_result"
    },
    {
     "data": {
      "image/png": "[encoded data removed]",
      "text/plain": [
       "<Figure size 864x360 with 1 Axes>"
      ]
     },
     "metadata": {
      "needs_background": "light"
     },
     "output_type": "display_data"
    }
   ],
   "source": [
    "trainDf.groupby('Number_Weeks_Used')['Crop_Damage'].mean().plot(figsize=(12,5))"
   ]
  },
  {
   "cell_type": "markdown",
   "metadata": {},
   "source": [
    "In this we can observe that optimal number of weeks should be between 5-30, if it is high or low it may lead to damage."
   ]
  },
  {
   "cell_type": "code",
   "execution_count": 106,
   "metadata": {},
   "outputs": [],
   "source": [
    "trainDf.loc[trainDf['Number_Weeks_Used'].isna(),'Number_Weeks_Used']=trainDf['Number_Weeks_Used'].mean()"
   ]
  },
  {
   "cell_type": "code",
   "execution_count": 107,
   "metadata": {},
   "outputs": [],
   "source": [
    "testDf.loc[testDf['Number_Weeks_Used'].isna(),'Number_Weeks_Used']=testDf['Number_Weeks_Used'].mean()"
   ]
  },
  {
   "cell_type": "code",
   "execution_count": 108,
   "metadata": {},
   "outputs": [],
   "source": [
    "Xtrainset=trainDf[['Pesticide_Use_Category','Number_Doses_Week','Number_Weeks_Used']]\n",
    "Ytrainset=trainDf[['Crop_Damage']].astype(int)"
   ]
  },
  {
   "cell_type": "code",
   "execution_count": 73,
   "metadata": {},
   "outputs": [],
   "source": [
    "X_train,X_test,y_train,y_test=train_test_split(Xtrainset,Ytrainset,test_size=0.20)"
   ]
  },
  {
   "cell_type": "code",
   "execution_count": 74,
   "metadata": {},
   "outputs": [],
   "source": [
    "## nromalization to scale the data (x-xmin/xmax-xmin)\n",
    "X_train_norm,X_test_norm=preprocessing.normalize(X_train),preprocessing.normalize(X_test)"
   ]
  },
  {
   "cell_type": "code",
   "execution_count": 75,
   "metadata": {},
   "outputs": [],
   "source": [
    "classifiers=[LogisticRegression(multi_class='ovr'),RandomForestClassifier()]"
   ]
  },
  {
   "cell_type": "code",
   "execution_count": 76,
   "metadata": {},
   "outputs": [
    {
     "name": "stdout",
     "output_type": "stream",
     "text": [
      "[0.85195865 0.85427949 0.8530529  0.8540377  0.85375633]\n",
      "[0.85631901 0.85561573 0.85572594 0.85347496 0.85980585]\n"
     ]
    }
   ],
   "source": [
    "for clf in classifiers:\n",
    "    scores = cross_val_score(clf, X_train_norm, y_train, cv=5)\n",
    "    print(scores)"
   ]
  },
  {
   "cell_type": "code",
   "execution_count": 77,
   "metadata": {},
   "outputs": [],
   "source": [
    "from xgboost import XGBClassifier \n",
    "from catboost import CatBoostClassifier"
   ]
  },
  {
   "cell_type": "code",
   "execution_count": 78,
   "metadata": {},
   "outputs": [
    {
     "name": "stdout",
     "output_type": "stream",
     "text": [
      "[0.85856952 0.85702229 0.85635903 0.85635903 0.86121272]\n",
      "0:\tlearn: 0.4885178\ttotal: 21ms\tremaining: 189ms\n",
      "1:\tlearn: 0.4610306\ttotal: 36.7ms\tremaining: 147ms\n",
      "2:\tlearn: 0.4501351\ttotal: 50.4ms\tremaining: 117ms\n",
      "3:\tlearn: 0.4438004\ttotal: 64.6ms\tremaining: 96.9ms\n",
      "4:\tlearn: 0.4426409\ttotal: 81.4ms\tremaining: 81.4ms\n",
      "5:\tlearn: 0.4407587\ttotal: 103ms\tremaining: 68.6ms\n",
      "6:\tlearn: 0.4389116\ttotal: 119ms\tremaining: 50.8ms\n",
      "7:\tlearn: 0.4381211\ttotal: 132ms\tremaining: 33ms\n",
      "8:\tlearn: 0.4378047\ttotal: 147ms\tremaining: 16.3ms\n",
      "9:\tlearn: 0.4370864\ttotal: 163ms\tremaining: 0us\n",
      "0:\tlearn: 0.4869690\ttotal: 23.4ms\tremaining: 210ms\n",
      "1:\tlearn: 0.4530098\ttotal: 42.1ms\tremaining: 168ms\n",
      "2:\tlearn: 0.4452315\ttotal: 59.6ms\tremaining: 139ms\n",
      "3:\tlearn: 0.4429716\ttotal: 76.9ms\tremaining: 115ms\n",
      "4:\tlearn: 0.4408937\ttotal: 88.1ms\tremaining: 88.1ms\n",
      "5:\tlearn: 0.4399346\ttotal: 105ms\tremaining: 69.9ms\n",
      "6:\tlearn: 0.4379556\ttotal: 120ms\tremaining: 51.6ms\n",
      "7:\tlearn: 0.4363675\ttotal: 138ms\tremaining: 34.6ms\n",
      "8:\tlearn: 0.4353436\ttotal: 154ms\tremaining: 17.1ms\n",
      "9:\tlearn: 0.4347431\ttotal: 179ms\tremaining: 0us\n",
      "0:\tlearn: 0.4864253\ttotal: 36.9ms\tremaining: 332ms\n",
      "1:\tlearn: 0.4539172\ttotal: 54.9ms\tremaining: 219ms\n",
      "2:\tlearn: 0.4447758\ttotal: 71.5ms\tremaining: 167ms\n",
      "3:\tlearn: 0.4418280\ttotal: 91ms\tremaining: 136ms\n",
      "4:\tlearn: 0.4409026\ttotal: 102ms\tremaining: 102ms\n",
      "5:\tlearn: 0.4398247\ttotal: 117ms\tremaining: 78.1ms\n",
      "6:\tlearn: 0.4381129\ttotal: 131ms\tremaining: 56.3ms\n",
      "7:\tlearn: 0.4370330\ttotal: 149ms\tremaining: 37.2ms\n",
      "8:\tlearn: 0.4361194\ttotal: 164ms\tremaining: 18.2ms\n",
      "9:\tlearn: 0.4358908\ttotal: 178ms\tremaining: 0us\n",
      "0:\tlearn: 0.4869069\ttotal: 13.7ms\tremaining: 123ms\n",
      "1:\tlearn: 0.4542035\ttotal: 29.9ms\tremaining: 120ms\n",
      "2:\tlearn: 0.4453968\ttotal: 43.2ms\tremaining: 101ms\n",
      "3:\tlearn: 0.4440852\ttotal: 56.8ms\tremaining: 85.2ms\n",
      "4:\tlearn: 0.4426421\ttotal: 69.7ms\tremaining: 69.7ms\n",
      "5:\tlearn: 0.4406809\ttotal: 82.5ms\tremaining: 55ms\n",
      "6:\tlearn: 0.4396234\ttotal: 102ms\tremaining: 43.8ms\n",
      "7:\tlearn: 0.4387882\ttotal: 116ms\tremaining: 29.1ms\n",
      "8:\tlearn: 0.4379181\ttotal: 131ms\tremaining: 14.6ms\n",
      "9:\tlearn: 0.4373614\ttotal: 147ms\tremaining: 0us\n",
      "0:\tlearn: 0.4889063\ttotal: 35.7ms\tremaining: 321ms\n",
      "1:\tlearn: 0.4568358\ttotal: 51.2ms\tremaining: 205ms\n",
      "2:\tlearn: 0.4478412\ttotal: 66.9ms\tremaining: 156ms\n",
      "3:\tlearn: 0.4449486\ttotal: 78.2ms\tremaining: 117ms\n",
      "4:\tlearn: 0.4433954\ttotal: 92.6ms\tremaining: 92.6ms\n",
      "5:\tlearn: 0.4425311\ttotal: 108ms\tremaining: 72.3ms\n",
      "6:\tlearn: 0.4415184\ttotal: 123ms\tremaining: 52.6ms\n",
      "7:\tlearn: 0.4404456\ttotal: 139ms\tremaining: 34.7ms\n",
      "8:\tlearn: 0.4388573\ttotal: 154ms\tremaining: 17.1ms\n",
      "9:\tlearn: 0.4381614\ttotal: 167ms\tremaining: 0us\n",
      "[0.85828821 0.85547507 0.85460045 0.85530388 0.8587507 ]\n"
     ]
    }
   ],
   "source": [
    "classifiers2 = [XGBClassifier(max_depth=5, objective='multi:softprob', n_estimators=100, \n",
    "                        num_classes=3),CatBoostClassifier(iterations=10,\n",
    "                           learning_rate=1,\n",
    "                           depth=2,\n",
    "                           loss_function='MultiClass')]\n",
    "for clf in classifiers2:\n",
    "    scores = cross_val_score(clf, X_train_norm, y_train, cv=5)\n",
    "    print(scores)"
   ]
  },
  {
   "cell_type": "code",
   "execution_count": 109,
   "metadata": {},
   "outputs": [],
   "source": [
    "tot_train=preprocessing.normalize(Xtrainset)\n",
    "tot_test=preprocessing.normalize(testDf[['Pesticide_Use_Category','Number_Doses_Week','Number_Weeks_Used']])"
   ]
  },
  {
   "cell_type": "code",
   "execution_count": 110,
   "metadata": {},
   "outputs": [],
   "source": [
    "Xgmodel=XGBClassifier(max_depth=5, objective='multi:softprob', n_estimators=100, \n",
    "                        num_classes=3)\n",
    "xg=Xgmodel.fit(tot_train,Ytrainset)\n",
    "testDf['Crop_Damage']=xg.predict(tot_test)"
   ]
  },
  {
   "cell_type": "code",
   "execution_count": 111,
   "metadata": {},
   "outputs": [],
   "source": [
    "agri_sub=testDf[['ID','Crop_Damage']]"
   ]
  },
  {
   "cell_type": "code",
   "execution_count": 112,
   "metadata": {},
   "outputs": [],
   "source": [
    "agri_sub.to_csv('agri_basic.csv',index=False)"
   ]
  },
  {
   "cell_type": "code",
   "execution_count": null,
   "metadata": {},
   "outputs": [],
   "source": []
  },
  {
   "cell_type": "code",
   "execution_count": null,
   "metadata": {},
   "outputs": [],
   "source": []
  },
  {
   "cell_type": "code",
   "execution_count": null,
   "metadata": {},
   "outputs": [],
   "source": []
  },
  {
   "cell_type": "code",
   "execution_count": null,
   "metadata": {},
   "outputs": [],
   "source": []
  },
  {
   "cell_type": "code",
   "execution_count": null,
   "metadata": {},
   "outputs": [],
   "source": []
  },
  {
   "cell_type": "code",
   "execution_count": null,
   "metadata": {},
   "outputs": [],
   "source": []
  },
  {
   "cell_type": "code",
   "execution_count": null,
   "metadata": {},
   "outputs": [],
   "source": []
  },
  {
   "cell_type": "code",
   "execution_count": null,
   "metadata": {},
   "outputs": [],
   "source": []
  },
  {
   "cell_type": "code",
   "execution_count": null,
   "metadata": {},
   "outputs": [],
   "source": []
  },
  {
   "cell_type": "code",
   "execution_count": null,
   "metadata": {},
   "outputs": [],
   "source": []
  },
  {
   "cell_type": "code",
   "execution_count": null,
   "metadata": {},
   "outputs": [],
   "source": []
  },
  {
   "cell_type": "code",
   "execution_count": null,
   "metadata": {},
   "outputs": [],
   "source": []
  },
  {
   "cell_type": "code",
   "execution_count": null,
   "metadata": {},
   "outputs": [],
   "source": []
  },
  {
   "cell_type": "code",
   "execution_count": null,
   "metadata": {},
   "outputs": [],
   "source": []
  },
  {
   "cell_type": "code",
   "execution_count": null,
   "metadata": {},
   "outputs": [],
   "source": []
  },
  {
   "cell_type": "code",
   "execution_count": null,
   "metadata": {},
   "outputs": [],
   "source": []
  },
  {
   "cell_type": "code",
   "execution_count": null,
   "metadata": {},
   "outputs": [],
   "source": []
  },
  {
   "cell_type": "code",
   "execution_count": null,
   "metadata": {},
   "outputs": [],
   "source": []
  },
  {
   "cell_type": "code",
   "execution_count": null,
   "metadata": {},
   "outputs": [],
   "source": []
  },
  {
   "cell_type": "code",
   "execution_count": null,
   "metadata": {},
   "outputs": [],
   "source": []
  },
  {
   "cell_type": "code",
   "execution_count": null,
   "metadata": {},
   "outputs": [],
   "source": []
  },
  {
   "cell_type": "code",
   "execution_count": null,
   "metadata": {},
   "outputs": [],
   "source": []
  },
  {
   "cell_type": "code",
   "execution_count": null,
   "metadata": {},
   "outputs": [],
   "source": []
  },
  {
   "cell_type": "code",
   "execution_count": null,
   "metadata": {},
   "outputs": [],
   "source": []
  },
  {
   "cell_type": "code",
   "execution_count": null,
   "metadata": {},
   "outputs": [],
   "source": []
  },
  {
   "cell_type": "code",
   "execution_count": null,
   "metadata": {},
   "outputs": [],
   "source": []
  },
  {
   "cell_type": "code",
   "execution_count": null,
   "metadata": {},
   "outputs": [],
   "source": []
  },
  {
   "cell_type": "code",
   "execution_count": null,
   "metadata": {},
   "outputs": [],
   "source": []
  },
  {
   "cell_type": "code",
   "execution_count": null,
   "metadata": {},
   "outputs": [],
   "source": []
  },
  {
   "cell_type": "code",
   "execution_count": null,
   "metadata": {},
   "outputs": [],
   "source": []
  },
  {
   "cell_type": "code",
   "execution_count": null,
   "metadata": {},
   "outputs": [],
   "source": []
  },
  {
   "cell_type": "code",
   "execution_count": null,
   "metadata": {},
   "outputs": [],
   "source": []
  },
  {
   "cell_type": "code",
   "execution_count": null,
   "metadata": {},
   "outputs": [],
   "source": []
  },
  {
   "cell_type": "code",
   "execution_count": null,
   "metadata": {},
   "outputs": [],
   "source": []
  },
  {
   "cell_type": "code",
   "execution_count": null,
   "metadata": {},
   "outputs": [],
   "source": []
  },
  {
   "cell_type": "code",
   "execution_count": null,
   "metadata": {},
   "outputs": [],
   "source": []
  },
  {
   "cell_type": "code",
   "execution_count": null,
   "metadata": {},
   "outputs": [],
   "source": []
  },
  {
   "cell_type": "code",
   "execution_count": null,
   "metadata": {},
   "outputs": [],
   "source": []
  },
  {
   "cell_type": "code",
   "execution_count": null,
   "metadata": {},
   "outputs": [],
   "source": []
  },
  {
   "cell_type": "code",
   "execution_count": null,
   "metadata": {},
   "outputs": [],
   "source": []
  },
  {
   "cell_type": "code",
   "execution_count": null,
   "metadata": {},
   "outputs": [],
   "source": []
  }
 ],
 "metadata": {
  "kernelspec": {
   "display_name": "Python 3",
   "language": "python",
   "name": "python3"
  },
  "language_info": {
   "codemirror_mode": {
    "name": "ipython",
    "version": 3
   },
   "file_extension": ".py",
   "mimetype": "text/x-python",
   "name": "python",
   "nbconvert_exporter": "python",
   "pygments_lexer": "ipython3",
   "version": "3.7.1"
  }
 },
 "nbformat": 4,
 "nbformat_minor": 2
}
